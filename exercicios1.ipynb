{
 "cells": [
  {
   "cell_type": "markdown",
   "metadata": {},
   "source": [
    "     Faça um Programa que peça o raio de um círculo, calcule e mostre sua área."
   ]
  },
  {
   "cell_type": "code",
   "execution_count": 1,
   "metadata": {},
   "outputs": [
    {
     "name": "stdout",
     "output_type": "stream",
     "text": [
      "Digite o raio5\n",
      "A área do círculo de raio 5 é 7.9e+01\n"
     ]
    }
   ],
   "source": [
    "import math\n",
    "raio = int(input (\"Digite o raio\"))\n",
    "#type (raio)\n",
    "area = math.pi * (raio ** 2)\n",
    "print (f'A área do círculo de raio {raio} é {area:{5}.{2}}')"
   ]
  },
  {
   "cell_type": "markdown",
   "metadata": {},
   "source": [
    "Faça um Programa que pergunte quanto você ganha por hora e o número de horas\n",
    "trabalhadas no mês. Calcule e mostre o total do seu salário no referido mês."
   ]
  },
  {
   "cell_type": "code",
   "execution_count": 37,
   "metadata": {},
   "outputs": [
    {
     "name": "stdout",
     "output_type": "stream",
     "text": [
      "Digite o valor da hora51\n",
      "Digite a quantidade de horas trabalhadas51\n",
      "Com valor de hora 51.00 e tendo trabalhado 51.00 horas, você ganhará 2601.00\n",
      "\n"
     ]
    }
   ],
   "source": [
    "valor_hora = float (input (\"Digite o valor da hora\"))\n",
    "numero_horas = float (input (\"Digite a quantidade de horas trabalhadas\"))\n",
    "total = valor_hora * numero_horas\n",
    "print ('Com valor de hora %.2f e tendo trabalhado %.2f horas, você ganhará %.2f\\n' % (valor_hora, numero_horas, total))"
   ]
  },
  {
   "cell_type": "markdown",
   "metadata": {},
   "source": [
    "João Papo-de-Pescador, homem de bem, comprou um microcomputador para controlar o rendimento diário de seu trabalho. Toda vez que ele traz um peso de peixes maior que o estabelecido pelo regulamento de pesca do estado de São Paulo (50 quilos) deve pagar uma multa de R$ 4,00 por quilo excedente. João precisa que\n",
    "você faça um programa que leia a variável peso (peso de peixes) e verifique se há excesso. Se houver, gravar na variável excesso e na variável multa o valor da multa que João deverá pagar. Caso contrário mostrar tais variáveis com o conteúdo ZERO."
   ]
  },
  {
   "cell_type": "code",
   "execution_count": 3,
   "metadata": {},
   "outputs": [
    {
     "name": "stdout",
     "output_type": "stream",
     "text": [
      "Digite o peso de peixes10\n",
      "Excesso: 0, Multa: 0\n"
     ]
    }
   ],
   "source": [
    "peso_peixes = float (input (\"Digite o peso de peixes\"))\n",
    "excesso = 0\n",
    "multa = 0\n",
    "if peso_peixes > 50:\n",
    "    excesso = peso_peixes - 50\n",
    "    multa = 4 * excesso\n",
    "print ('Excesso: {}, Multa: {}'.format(excesso, multa))"
   ]
  },
  {
   "cell_type": "markdown",
   "metadata": {},
   "source": [
    "2 Faça um Programa que calcule a área de um quadrado, em seguida mostre o dobro\n",
    "desta área para o usuário."
   ]
  },
  {
   "cell_type": "code",
   "execution_count": 11,
   "metadata": {},
   "outputs": [
    {
     "name": "stdout",
     "output_type": "stream",
     "text": [
      "Digite o valor referente ao lado do quadrado 85\n",
      "A área do quadrado é 7225 e o dobro do seu tamanho é de 14450\n"
     ]
    }
   ],
   "source": [
    "quadrado = int(input (\"Digite o valor referente ao lado do quadrado \"))\n",
    "\n",
    "x = quadrado ** 2\n",
    "y = x * 2\n",
    "print (f'A área do quadrado é {x} e o dobro do seu tamanho é de {y}')"
   ]
  },
  {
   "cell_type": "markdown",
   "metadata": {},
   "source": [
    "Faça um Programa que peça a temperatura em graus Farenheit, transforme e\n",
    "mostre a temperatura em graus Celsius. C = (5 * (F-32) / 9)."
   ]
  },
  {
   "cell_type": "code",
   "execution_count": 15,
   "metadata": {},
   "outputs": [
    {
     "name": "stdout",
     "output_type": "stream",
     "text": [
      "Digite a temperatura em F: 5\n",
      "A temperatura em C° é: -15.0\n"
     ]
    }
   ],
   "source": [
    "farenheit = float (input(\"Digite a temperatura em Farenheit: \"))\n",
    "f = farenheit\n",
    "c = (5 * (f-32) / 9)\n",
    "\n",
    "print (f'A temperatura em C° é: {c}')\n",
    "       "
   ]
  },
  {
   "cell_type": "markdown",
   "metadata": {},
   "source": [
    "Faça um Programa que peça a temperatura em graus Celsius, transforme e mostre\n",
    "em graus Farenheit."
   ]
  },
  {
   "cell_type": "code",
   "execution_count": 31,
   "metadata": {},
   "outputs": [
    {
     "name": "stdout",
     "output_type": "stream",
     "text": [
      "Digite a temperatura em Celsius: 14\n",
      "A temperatura em C° é: 2.6e+01\n"
     ]
    }
   ],
   "source": [
    "celsius = float (input(\"Digite a temperatura em Celsius: \"))\n",
    "c = celsius\n",
    "f = (5 * (c+32) / 9)\n",
    "\n",
    "print (f'A temperatura em C° é: {f:{5}.{2}}')"
   ]
  },
  {
   "cell_type": "markdown",
   "metadata": {},
   "source": [
    "6 Faça um Programa que peça 2 números inteiros e um número real. Calcule e\n",
    "mostre:\n",
    "- o produto do dobro do primeiro com metade do segundo .\n",
    "- a soma do triplo do primeiro com o terceiro.\n",
    "- o terceiro elevado ao cubo."
   ]
  },
  {
   "cell_type": "code",
   "execution_count": 33,
   "metadata": {},
   "outputs": [
    {
     "name": "stdout",
     "output_type": "stream",
     "text": [
      "Digite um numero inteiro: 4\n",
      "Digite um numero inteiro: 4\n",
      "Digite um numero: 4\n",
      "10.0 16.0 64.0\n"
     ]
    }
   ],
   "source": [
    "nmr1 = int(input(\"Digite um numero inteiro: \"))\n",
    "nmr2 = int(input(\"Digite um numero inteiro: \"))\n",
    "nmr3 = float(input(\"Digite um numero: \"))\n",
    "\n",
    "x = nmr1 * 2 + nmr2/2\n",
    "y = nmr1 * 3 + nmr3\n",
    "z = nmr3 ** 3\n",
    "\n",
    "print(x,y,z)\n",
    "\n"
   ]
  },
  {
   "cell_type": "markdown",
   "metadata": {},
   "source": [
    "Faça um Programa que pergunte quanto você ganha por hora e o número de horas\n",
    "trabalhadas no mês. Calcule e mostre o total do seu salário no referido mês,\n",
    "sabendo-se que são descontados 11% para o Imposto de Renda, 8% para o INSS e 5%\n",
    "para o sindicato, faça um programa que nos dê:\n",
    "- salário bruto.\n",
    "- quanto pagou ao INSS.\n",
    "- quanto pagou ao sindicato.\n",
    "- o salário líquido.\n",
    "- calcule os descontos e o salário líquido, conforme a tabela abaixo:\n",
    "+ Salário Bruto : R$\n",
    "- IR (11%) : R$\n",
    "- INSS (8%) : R$\n",
    "- Sindicato ( 5%) : R$\n",
    "= Salário Liquido : R$\n",
    "Obs.: Salário Bruto - Descontos = Salário Líquido."
   ]
  },
  {
   "cell_type": "code",
   "execution_count": 45,
   "metadata": {},
   "outputs": [
    {
     "name": "stdout",
     "output_type": "stream",
     "text": [
      "Digite o valor da hora 60\n",
      "Digite a quantidade de horas trabalhadas durante o mês 160\n",
      "Com valor de hora 60.00 e tendo trabalhado 160.00 horas o salário bruto é: 9600.00 reais\n",
      "Desconto do IR: 1056.00 reais\n",
      "Desconto do INSS é: 768.00\n",
      "Sindicato é: 480.00\n",
      "Salário liquido: 7296.00\n"
     ]
    }
   ],
   "source": [
    "valor_hora = float (input (\"Digite o valor da hora \"))\n",
    "numero_horas = float (input (\"Digite a quantidade de horas trabalhadas durante o mês \"))\n",
    "slr_bruto = valor_hora * numero_horas\n",
    "inss = slr_bruto * 8/100\n",
    "ir = slr_bruto * 11/100\n",
    "sindicato = slr_bruto * 5/100\n",
    "slr_liquido = slr_bruto - inss - ir - sindicato\n",
    "\n",
    "print ('Com valor de hora %.2f e tendo trabalhado %.2f horas o salário bruto é: %.2f reais\\nDesconto do IR: %.2f reais\\nDesconto do INSS é: %.2f\\nSindicato é: %.2f\\nSalário liquido: %.2f' % (valor_hora, numero_horas, slr_bruto, ir, inss, sindicato, slr_liquido))\n",
    "\n",
    "\n"
   ]
  },
  {
   "cell_type": "markdown",
   "metadata": {},
   "source": [
    "Faça um programa que leia 2 strings e informe o conteúdo delas seguido do seu\n",
    "comprimento. Informe também se as duas strings possuem o mesmo comprimento e\n",
    "são iguais ou diferentes no conteúdo.\n",
    "Exemplo:\n",
    "String 1: Brasil Hexa 2018\n",
    "String 2: Brasil! Hexa 2018!\n",
    "Tamanho de \"Brasil Hexa 2018\": 16 caracteres\n",
    "Tamanho de \"Brasil! Hexa 2018!\": 18 caracteres\n",
    "As duas strings são de tamanhos diferentes.\n",
    "As duas strings possuem conteúdo diferente."
   ]
  },
  {
   "cell_type": "code",
   "execution_count": 98,
   "metadata": {},
   "outputs": [
    {
     "name": "stdout",
     "output_type": "stream",
     "text": [
      "qual o seu nome salve oi\n",
      "qual o seu outro nome dja\n",
      "8 3\n"
     ]
    }
   ],
   "source": [
    "banco = input('qual o seu nome ');\n",
    "banco2 = input('qual o seu outro nome ');\n",
    "print(len(banco), len(banco2))"
   ]
  },
  {
   "cell_type": "markdown",
   "metadata": {},
   "source": [
    "Faça um programa que permita ao usuário digitar o seu nome e em seguida\n",
    "mostre o nome do usuário de trás para frente utilizando somente letras maiúsculas.\n",
    "Dica: lembre−se que ao informar o nome o usuário pode digitar letras maiúsculas ou\n",
    "minúsculas. Observação: não use loops."
   ]
  },
  {
   "cell_type": "code",
   "execution_count": 100,
   "metadata": {},
   "outputs": [
    {
     "name": "stdout",
     "output_type": "stream",
     "text": [
      "Digite seu nome: salve\n"
     ]
    },
    {
     "data": {
      "text/plain": [
       "'EVLAS'"
      ]
     },
     "execution_count": 100,
     "metadata": {},
     "output_type": "execute_result"
    }
   ],
   "source": [
    "s = input(\"Digite seu nome: \")\n",
    "z = s[::-1]\n",
    "z.upper()\n"
   ]
  },
  {
   "cell_type": "code",
   "execution_count": null,
   "metadata": {},
   "outputs": [],
   "source": []
  }
 ],
 "metadata": {
  "kernelspec": {
   "display_name": "Python 3",
   "language": "python",
   "name": "python3"
  },
  "language_info": {
   "codemirror_mode": {
    "name": "ipython",
    "version": 3
   },
   "file_extension": ".py",
   "mimetype": "text/x-python",
   "name": "python",
   "nbconvert_exporter": "python",
   "pygments_lexer": "ipython3",
   "version": "3.7.1"
  }
 },
 "nbformat": 4,
 "nbformat_minor": 2
}
